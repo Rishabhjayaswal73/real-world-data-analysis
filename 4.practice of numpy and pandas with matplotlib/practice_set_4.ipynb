{
 "cells": [
  {
   "cell_type": "code",
   "execution_count": 1,
   "id": "ad93404c",
   "metadata": {},
   "outputs": [
    {
     "name": "stdout",
     "output_type": "stream",
     "text": [
      "         Date     Product  Quantity  Price    City\n",
      "0  2024-01-01      Laptop         3  60000   Delhi\n",
      "1  2024-01-02      Mobile         5  15000  Mumbai\n",
      "2  2024-01-03      Laptop         2  62000   Delhi\n",
      "3  2024-01-04  Headphones        10   2000    Pune\n",
      "4  2024-01-05      Mobile         7  15500  Mumbai\n"
     ]
    }
   ],
   "source": [
    "import pandas as pd\n",
    "import matplotlib.pyplot as plt\n",
    "\n",
    "# Create DataFrame\n",
    "data = {\n",
    "    'Date': ['2024-01-01', '2024-01-02', '2024-01-03', '2024-01-04', '2024-01-05'],\n",
    "    'Product': ['Laptop', 'Mobile', 'Laptop', 'Headphones', 'Mobile'],\n",
    "    'Quantity': [3, 5, 2, 10, 7],\n",
    "    'Price': [60000, 15000, 62000, 2000, 15500],\n",
    "    'City': ['Delhi', 'Mumbai', 'Delhi', 'Pune', 'Mumbai']\n",
    "}\n",
    "\n",
    "df = pd.DataFrame(data)\n",
    "print(df)\n"
   ]
  },
  {
   "cell_type": "markdown",
   "id": "2ecef689",
   "metadata": {},
   "source": [
    "### Calculate Total Revenue for Each Row"
   ]
  },
  {
   "cell_type": "code",
   "execution_count": 2,
   "id": "c3b71141",
   "metadata": {},
   "outputs": [
    {
     "name": "stdout",
     "output_type": "stream",
     "text": [
      "         Date     Product  Quantity  Price    City  Revenue\n",
      "0  2024-01-01      Laptop         3  60000   Delhi   180000\n",
      "1  2024-01-02      Mobile         5  15000  Mumbai    75000\n",
      "2  2024-01-03      Laptop         2  62000   Delhi   124000\n",
      "3  2024-01-04  Headphones        10   2000    Pune    20000\n",
      "4  2024-01-05      Mobile         7  15500  Mumbai   108500\n"
     ]
    }
   ],
   "source": [
    "df['Revenue'] = df['Quantity'] * df['Price']\n",
    "print(df)\n"
   ]
  },
  {
   "cell_type": "markdown",
   "id": "10322b99",
   "metadata": {},
   "source": [
    "### Calculate Total Revenue per City"
   ]
  },
  {
   "cell_type": "code",
   "execution_count": 3,
   "id": "3c783e98",
   "metadata": {},
   "outputs": [
    {
     "name": "stdout",
     "output_type": "stream",
     "text": [
      "City\n",
      "Delhi     304000\n",
      "Mumbai    183500\n",
      "Pune       20000\n",
      "Name: Revenue, dtype: int64\n"
     ]
    }
   ],
   "source": [
    "city_revenue = df.groupby('City')['Revenue'].sum()\n",
    "print(city_revenue)\n"
   ]
  },
  {
   "cell_type": "markdown",
   "id": "a1316e48",
   "metadata": {},
   "source": [
    "### Find Top-Selling Product by Revenue"
   ]
  },
  {
   "cell_type": "code",
   "execution_count": 4,
   "id": "81d266a0",
   "metadata": {},
   "outputs": [
    {
     "name": "stdout",
     "output_type": "stream",
     "text": [
      "Product\n",
      "Laptop        304000\n",
      "Mobile        183500\n",
      "Headphones     20000\n",
      "Name: Revenue, dtype: int64\n"
     ]
    }
   ],
   "source": [
    "product_revenue = df.groupby('Product')['Revenue'].sum().sort_values(ascending=False)\n",
    "print(product_revenue)\n"
   ]
  },
  {
   "cell_type": "markdown",
   "id": "2c641407",
   "metadata": {},
   "source": [
    "### Visualize Revenue by Product"
   ]
  },
  {
   "cell_type": "code",
   "execution_count": 5,
   "id": "74a4c039",
   "metadata": {},
   "outputs": [
    {
     "data": {
      "image/png": "[encoded data removed]",
      "text/plain": [
       "<Figure size 640x480 with 1 Axes>"
      ]
     },
     "metadata": {},
     "output_type": "display_data"
    }
   ],
   "source": [
    "product_revenue.plot(kind='bar', color='skyblue', edgecolor='black')\n",
    "plt.title('Total Revenue by Product')\n",
    "plt.ylabel('Revenue')\n",
    "plt.xlabel('Product')\n",
    "plt.show()\n"
   ]
  },
  {
   "cell_type": "markdown",
   "id": "6c9058c0",
   "metadata": {},
   "source": [
    "### Find Average Price of Each Product"
   ]
  },
  {
   "cell_type": "code",
   "execution_count": 6,
   "id": "e0821b60",
   "metadata": {},
   "outputs": [
    {
     "name": "stdout",
     "output_type": "stream",
     "text": [
      "Product\n",
      "Headphones     2000.0\n",
      "Laptop        61000.0\n",
      "Mobile        15250.0\n",
      "Name: Price, dtype: float64\n"
     ]
    }
   ],
   "source": [
    "average_price = df.groupby('Product')['Price'].mean()\n",
    "print(average_price)\n"
   ]
  },
  {
   "cell_type": "markdown",
   "id": "883e2d08",
   "metadata": {},
   "source": [
    "### Filter Data for a Specific City"
   ]
  },
  {
   "cell_type": "code",
   "execution_count": 7,
   "id": "95ad6c6f",
   "metadata": {},
   "outputs": [
    {
     "name": "stdout",
     "output_type": "stream",
     "text": [
      "         Date Product  Quantity  Price    City  Revenue\n",
      "1  2024-01-02  Mobile         5  15000  Mumbai    75000\n",
      "4  2024-01-05  Mobile         7  15500  Mumbai   108500\n"
     ]
    }
   ],
   "source": [
    "mumbai_sales = df[df['City'] == 'Mumbai']\n",
    "print(mumbai_sales)\n"
   ]
  },
  {
   "cell_type": "code",
   "execution_count": 8,
   "id": "a88db739",
   "metadata": {},
   "outputs": [],
   "source": [
    "df.to_csv('sales_data_result.csv', index=False)\n"
   ]
  },
  {
   "cell_type": "code",
   "execution_count": null,
   "id": "e3e82fcc",
   "metadata": {},
   "outputs": [],
   "source": []
  }
 ],
 "metadata": {
  "kernelspec": {
   "display_name": "Python 3",
   "language": "python",
   "name": "python3"
  },
  "language_info": {
   "codemirror_mode": {
    "name": "ipython",
    "version": 3
   },
   "file_extension": ".py",
   "mimetype": "text/x-python",
   "name": "python",
   "nbconvert_exporter": "python",
   "pygments_lexer": "ipython3",
   "version": "3.13.2"
  }
 },
 "nbformat": 4,
 "nbformat_minor": 5
}
