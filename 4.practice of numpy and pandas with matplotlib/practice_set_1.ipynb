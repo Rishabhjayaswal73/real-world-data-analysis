{
 "cells": [
  {
   "cell_type": "code",
   "execution_count": 3,
   "id": "a43152ff",
   "metadata": {},
   "outputs": [
    {
     "name": "stdout",
     "output_type": "stream",
     "text": [
      "  Student  Math  Science  English  Computer\n",
      "0   Aditi    78       88       90        94\n",
      "1   Rohan    56       60       65        70\n",
      "2    Neha    90       92       88        96\n",
      "3   Aarav    45       50       55        60\n",
      "4  Ishita    82       85       80        88\n"
     ]
    }
   ],
   "source": [
    "import pandas as pd\n",
    "\n",
    "# Create DataFrame\n",
    "data = {\n",
    "    'Student': ['Aditi', 'Rohan', 'Neha', 'Aarav', 'Ishita'],\n",
    "    'Math': [78, 56, 90, 45, 82],\n",
    "    'Science': [88, 60, 92, 50, 85],\n",
    "    'English': [90, 65, 88, 55, 80],\n",
    "    'Computer': [94, 70, 96, 60, 88]\n",
    "}\n",
    "\n",
    "df = pd.DataFrame(data)\n",
    "print(df)\n"
   ]
  },
  {
   "cell_type": "markdown",
   "id": "679ca803",
   "metadata": {},
   "source": [
    "### Find Average Marks per Subject"
   ]
  },
  {
   "cell_type": "code",
   "execution_count": 4,
   "id": "c91e26b1",
   "metadata": {},
   "outputs": [
    {
     "name": "stdout",
     "output_type": "stream",
     "text": [
      "Average marks per subject:\n",
      " Math        70.2\n",
      "Science     75.0\n",
      "English     75.6\n",
      "Computer    81.6\n",
      "dtype: float64\n"
     ]
    }
   ],
   "source": [
    "average_per_subject = df[['Math', 'Science', 'English', 'Computer']].mean()\n",
    "print(\"Average marks per subject:\\n\", average_per_subject)\n"
   ]
  },
  {
   "cell_type": "markdown",
   "id": "8cac9c66",
   "metadata": {},
   "source": [
    "### Find Topper in Each Subject"
   ]
  },
  {
   "cell_type": "code",
   "execution_count": 5,
   "id": "70567fd4",
   "metadata": {},
   "outputs": [
    {
     "name": "stdout",
     "output_type": "stream",
     "text": [
      "Topper in Math: Neha (90 marks)\n",
      "Topper in Science: Neha (92 marks)\n",
      "Topper in English: Aditi (90 marks)\n",
      "Topper in Computer: Neha (96 marks)\n"
     ]
    }
   ],
   "source": [
    "for subject in ['Math', 'Science', 'English', 'Computer']:\n",
    "    topper = df.loc[df[subject].idxmax()]\n",
    "    print(f\"Topper in {subject}: {topper['Student']} ({topper[subject]} marks)\")\n"
   ]
  },
  {
   "cell_type": "markdown",
   "id": "2b1b80f5",
   "metadata": {},
   "source": [
    "### Calculate Total and Percentage per Student"
   ]
  },
  {
   "cell_type": "code",
   "execution_count": 6,
   "id": "1618aba1",
   "metadata": {},
   "outputs": [
    {
     "name": "stdout",
     "output_type": "stream",
     "text": [
      "  Student  Total  Percentage\n",
      "0   Aditi    350       87.50\n",
      "1   Rohan    251       62.75\n",
      "2    Neha    366       91.50\n",
      "3   Aarav    210       52.50\n",
      "4  Ishita    335       83.75\n"
     ]
    }
   ],
   "source": [
    "# Total marks\n",
    "df['Total'] = df[['Math', 'Science', 'English', 'Computer']].sum(axis=1)\n",
    "\n",
    "# Percentage\n",
    "df['Percentage'] = df['Total'] / 4\n",
    "\n",
    "print(df[['Student', 'Total', 'Percentage']])\n"
   ]
  },
  {
   "cell_type": "markdown",
   "id": "bfd84c24",
   "metadata": {},
   "source": [
    "### Filter Students Who Scored >80% Overall"
   ]
  },
  {
   "cell_type": "code",
   "execution_count": 7,
   "id": "9e289da4",
   "metadata": {},
   "outputs": [
    {
     "name": "stdout",
     "output_type": "stream",
     "text": [
      "Students scoring above 80%:\n",
      "   Student  Percentage\n",
      "0   Aditi       87.50\n",
      "2    Neha       91.50\n",
      "4  Ishita       83.75\n"
     ]
    }
   ],
   "source": [
    "high_scorers = df[df['Percentage'] > 80]\n",
    "print(\"Students scoring above 80%:\\n\", high_scorers[['Student', 'Percentage']])\n"
   ]
  },
  {
   "cell_type": "markdown",
   "id": "59141c6c",
   "metadata": {},
   "source": [
    "### Visualize Marks using Matplotlib / Pandas Plot"
   ]
  },
  {
   "cell_type": "code",
   "execution_count": 8,
   "id": "dba158d8",
   "metadata": {},
   "outputs": [
    {
     "data": {
      "image/png": "[encoded data removed]",
      "text/plain": [
       "<Figure size 640x480 with 1 Axes>"
      ]
     },
     "metadata": {},
     "output_type": "display_data"
    }
   ],
   "source": [
    "import matplotlib.pyplot as plt\n",
    "\n",
    "# Bar plot for average marks\n",
    "average_per_subject.plot(kind='bar', color='skyblue', edgecolor='black')\n",
    "plt.title('Average Marks per Subject')\n",
    "plt.ylabel('Marks')\n",
    "plt.xlabel('Subjects')\n",
    "plt.show()\n"
   ]
  },
  {
   "cell_type": "code",
   "execution_count": 9,
   "id": "9b6cc170",
   "metadata": {},
   "outputs": [],
   "source": [
    "df.to_csv('student_marks_result.csv', index=False)\n"
   ]
  },
  {
   "cell_type": "code",
   "execution_count": null,
   "id": "34964b06",
   "metadata": {},
   "outputs": [],
   "source": []
  }
 ],
 "metadata": {
  "kernelspec": {
   "display_name": "Python 3",
   "language": "python",
   "name": "python3"
  },
  "language_info": {
   "codemirror_mode": {
    "name": "ipython",
    "version": 3
   },
   "file_extension": ".py",
   "mimetype": "text/x-python",
   "name": "python",
   "nbconvert_exporter": "python",
   "pygments_lexer": "ipython3",
   "version": "3.13.2"
  }
 },
 "nbformat": 4,
 "nbformat_minor": 5
}
